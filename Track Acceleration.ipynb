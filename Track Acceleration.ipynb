{
 "cells": [
  {
   "cell_type": "code",
   "execution_count": 1,
   "id": "341eaab9-1348-40b6-9803-34851bd5e0fc",
   "metadata": {},
   "outputs": [
    {
     "name": "stdout",
     "output_type": "stream",
     "text": [
      "Loaded libraries\n"
     ]
    }
   ],
   "source": [
    "from datetime import datetime\n",
    "\n",
    "from libs import (\n",
    "    test_acceleration,\n",
    "    print_estimation,\n",
    "    bootstrap_growth_parameters,\n",
    "    sliding_window_analysis,\n",
    ")\n",
    "from model_data import model_data\n",
    "\n",
    "print(\"Loaded libraries\")"
   ]
  },
  {
   "cell_type": "code",
   "execution_count": 2,
   "id": "be06616b-8538-41bc-96ae-c167a1b543c3",
   "metadata": {},
   "outputs": [
    {
     "name": "stdout",
     "output_type": "stream",
     "text": [
      "=== 50% Reliability ===\n",
      "GPT‑2 to GPT5 (50%): (316, 0.908)\n",
      "GPT-3 to GPT5 (50%): (296, 0.9)\n",
      "GPT-4 to GPT5 (50%): (253, 0.9)\n",
      "Claude 3 Opus to GPT5 (50%): (116, 1.0)\n",
      "GPT-3 to Claude 4.1 Opus (50%): (296, 0.9)\n",
      "GPT-4 to Claude 4.1 Opus (50%): (256, 0.9)\n",
      "Claude 3 Opus to Claude 4.1 Opus (50%): (117, 1.0)\n",
      "Claude 3 Opus to Claude 4.1 Opus (50%): (117, 1.0)\n",
      "\n",
      "=== 80% Reliability ===\n",
      "GPT‑2 to GPT5 (80%): (204, 0.974)\n",
      "GPT-3 to GPT5 (80%): (302, 0.9)\n",
      "GPT-4 to GPT5 (80%): (239, 0.9)\n",
      "Claude 3 Opus to GPT5 (80%): (109, 1.0)\n",
      "GPT-3 to Claude 4.1 Opus (80%): (302, 0.9)\n",
      "GPT-4 to Claude 4.1 Opus (80%): (241, 0.9)\n",
      "Claude 3 Opus to Claude 4.1 Opus (80%): (108, 1.0)\n",
      "Claude 3 Opus to Claude 4.1 Opus (80%): (108, 1.0)\n"
     ]
    }
   ],
   "source": [
    "# Construct observed_models from model_data\n",
    "# Format: (model_name, release_date, task_length_50%, task_length_80%) in hours\n",
    "observed_models = [\n",
    "    (model['name'], model['launch_date'], model['performance_50p'], model['performance_80p'])\n",
    "    for model in model_data.values()\n",
    "    if model['performance_50p'] is not None  # Exclude models without data\n",
    "]\n",
    "\n",
    "print(\"=== 50% Reliability ===\")\n",
    "print_estimation(observed_models)\n",
    "print_estimation(observed_models[1:])\n",
    "print_estimation(observed_models[3:])\n",
    "print_estimation(observed_models[5:])\n",
    "\n",
    "print_estimation(observed_models[1:-1])\n",
    "print_estimation(observed_models[3:-1])\n",
    "print_estimation(observed_models[5:-1])\n",
    "print_estimation(observed_models[5:-1])\n",
    "\n",
    "print(\"\\n=== 80% Reliability ===\")\n",
    "print_estimation(observed_models, \"80%\")\n",
    "print_estimation(observed_models[1:], \"80%\")\n",
    "print_estimation(observed_models[3:], \"80%\")\n",
    "print_estimation(observed_models[5:], \"80%\")\n",
    "\n",
    "print_estimation(observed_models[1:-1], \"80%\")\n",
    "print_estimation(observed_models[3:-1], \"80%\")\n",
    "print_estimation(observed_models[5:-1], \"80%\")\n",
    "print_estimation(observed_models[5:-1], \"80%\")"
   ]
  },
  {
   "cell_type": "code",
   "execution_count": 3,
   "id": "1cf7ffa3-b6c1-4b28-98a3-f3e94b123585",
   "metadata": {},
   "outputs": [
    {
     "name": "stdout",
     "output_type": "stream",
     "text": [
      "=== Bootstrap Analysis ===\n",
      "Current date: 2025-10-07\n",
      "\n",
      "50% Reliability:\n",
      "Full dataset: (297, 0.901) (95% CI: {'doubling_time': (110, 333), 'acceleration': (0.9, 1.0)})\n",
      "2024+ models: (125, 0.956) (95% CI: {'doubling_time': (110, 172), 'acceleration': (0.9, 1.0)})\n",
      "\n",
      "80% Reliability:\n",
      "Full dataset: (231, 0.947) (95% CI: {'doubling_time': (121, 306), 'acceleration': (0.9, 1.0)})\n",
      "2024+ models: (127, 0.922) (95% CI: {'doubling_time': (105, 157), 'acceleration': (0.9, 1.0)})\n",
      "\n",
      "=== Parameter stability by time window ===\n",
      "       doubling_time             acceleration          \n",
      "                mean         std         mean       std\n",
      "window                                                 \n",
      "6         148.071429  101.323901      0.95000  0.051887\n",
      "8         172.666667   81.422951      0.94050  0.049740\n",
      "10        182.500000   79.971175      0.92570  0.043004\n",
      "12        194.875000   85.318625      0.93725  0.051414\n"
     ]
    }
   ],
   "source": [
    "print(\"=== Bootstrap Analysis ===\")\n",
    "current_date = datetime.today()\n",
    "print(f\"Current date: {current_date.strftime('%Y-%m-%d')}\")\n",
    "\n",
    "for rel in [\"50%\", \"80%\"]:\n",
    "    print(f\"\\n{rel} Reliability:\")\n",
    "    full_results = bootstrap_growth_parameters(\n",
    "        observed_models, reliability_level=rel, current_date=current_date\n",
    "    )\n",
    "    print(f\"Full dataset: {full_results['median']} (95% CI: {full_results['ci_95']})\")\n",
    "    recent_models = [m for m in observed_models if m[1] >= datetime(2024, 1, 1)]\n",
    "    recent_results = bootstrap_growth_parameters(\n",
    "        recent_models, reliability_level=rel, current_date=current_date\n",
    "    )\n",
    "    print(\n",
    "        f\"2024+ models: {recent_results['median']} (95% CI: {recent_results['ci_95']})\"\n",
    "    )\n",
    "\n",
    "df = sliding_window_analysis(observed_models)\n",
    "print(\"\\n=== Parameter stability by time window ===\")\n",
    "print(df.groupby(\"window\")[[\"doubling_time\", \"acceleration\"]].agg([\"mean\", \"std\"]))"
   ]
  },
  {
   "cell_type": "code",
   "execution_count": 4,
   "id": "28ddf801-4942-4576-86d2-9e528062af09",
   "metadata": {},
   "outputs": [
    {
     "name": "stdout",
     "output_type": "stream",
     "text": [
      "Step |    Date    |    Day |       Task | τ (d)\n",
      "-----------------------------------------------\n",
      "   0 | 2019‑02‑14 |      0 |       2sec | 260.0\n",
      "   1 | 2019‑11‑01 |    260 |       4sec | 247.0\n",
      "   2 | 2020‑07‑05 |    507 |       8sec | 234.6\n",
      "   3 | 2021‑02‑24 |    741 |      16sec | 222.9\n",
      "   4 | 2021‑10‑05 |    964 |      32sec | 211.8\n",
      "   5 | 2022‑05‑05 |   1176 |    1.07min | 201.2\n",
      "   6 | 2022‑11‑22 |   1377 |    2.13min | 191.1\n",
      "   7 | 2023‑06‑01 |   1568 |    4.27min | 181.6\n",
      "   8 | 2023‑11‑30 |   1750 |    8.53min | 172.5\n",
      "   9 | 2024‑05‑20 |   1922 |   17.07min | 163.9\n",
      "  10 | 2024‑10‑31 |   2086 |   34.13min | 155.7\n",
      "  11 | 2025‑04‑05 |   2242 |     1.14hr | 147.9\n",
      "  12 | 2025‑08‑31 |   2390 |     2.28hr | 140.5\n",
      "  13 | 2026‑01‑18 |   2530 |     4.55hr | 133.5\n",
      "  14 | 2026‑06‑01 |   2664 |     9.10hr | 126.8\n",
      "  15 | 2026‑10‑05 |   2790 |    18.20hr | 120.5\n",
      "  16 | 2027‑02‑03 |   2911 |    36.41hr | 114.4\n",
      "  17 | 2027‑05‑28 |   3025 |    72.82hr | 108.7\n",
      "  18 | 2027‑09‑14 |   3134 |   145.64hr | 103.3\n",
      "  19 | 2027‑12‑26 |   3237 |   291.27hr |  98.1  <-- reached target\n"
     ]
    }
   ],
   "source": [
    "test_acceleration(\n",
    "    start_task_length=model_data['gpt2']['performance_50p'],\n",
    "    agi_task_length=167,\n",
    "    initial_doubling_time=260,\n",
    "    acceleration=0.95,\n",
    "    start_date=model_data['gpt2']['launch_date'].strftime('%Y-%m-%d'),\n",
    ")"
   ]
  }
 ],
 "metadata": {
  "kernelspec": {
   "display_name": "Python 3 (ipykernel)",
   "language": "python",
   "name": "python3"
  },
  "language_info": {
   "codemirror_mode": {
    "name": "ipython",
    "version": 3
   },
   "file_extension": ".py",
   "mimetype": "text/x-python",
   "name": "python",
   "nbconvert_exporter": "python",
   "pygments_lexer": "ipython3",
   "version": "3.11.0"
  }
 },
 "nbformat": 4,
 "nbformat_minor": 5
}
